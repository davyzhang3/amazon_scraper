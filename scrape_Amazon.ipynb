{
 "metadata": {
  "language_info": {
   "codemirror_mode": {
    "name": "ipython",
    "version": 3
   },
   "file_extension": ".py",
   "mimetype": "text/x-python",
   "name": "python",
   "nbconvert_exporter": "python",
   "pygments_lexer": "ipython3",
   "version": "3.9.4"
  },
  "orig_nbformat": 2,
  "kernelspec": {
   "name": "pythonjvsc74a57bd0c5a8335dd7cb9ee16635583bd8662f4a21838fbacd7d586c6423777d2998c4ff",
   "display_name": "Python 3.9.4  ('venv': venv)"
  },
  "metadata": {
   "interpreter": {
    "hash": "c5a8335dd7cb9ee16635583bd8662f4a21838fbacd7d586c6423777d2998c4ff"
   }
  }
 },
 "nbformat": 4,
 "nbformat_minor": 2,
 "cells": [
  {
   "cell_type": "code",
   "execution_count": 11,
   "metadata": {},
   "outputs": [],
   "source": [
    "from selectorlib import Extractor\n",
    "import requests \n",
    "import json \n",
    "from time import sleep\n",
    "\n",
    "\n",
    "# Create an Extractor by reading from the YAML file\n",
    "e = Extractor.from_yaml_file('search_results.yml')\n",
    "\n",
    "def scrape(url):  \n",
    "\n",
    "    headers = {\n",
    "        'dnt': '1',\n",
    "        'upgrade-insecure-requests': '1',\n",
    "        'user-agent': 'Mozilla/5.0 (Macintosh; Intel Mac OS X 10_15_4) AppleWebKit/537.36 (KHTML, like Gecko) Chrome/83.0.4103.61 Safari/537.36',\n",
    "        'accept': 'text/html,application/xhtml+xml,application/xml;q=0.9,image/webp,image/apng,*/*;q=0.8,application/signed-exchange;v=b3;q=0.9',\n",
    "        'sec-fetch-site': 'same-origin',\n",
    "        'sec-fetch-mode': 'navigate',\n",
    "        'sec-fetch-user': '?1',\n",
    "        'sec-fetch-dest': 'document',\n",
    "        'referer': 'https://www.amazon.com/',\n",
    "        'accept-language': 'en-GB,en-US;q=0.9,en;q=0.8',\n",
    "    }\n",
    "\n",
    "    # Download the page using requests\n",
    "    print(\"Downloading %s\"%url)\n",
    "    r = requests.get(url, headers=headers)\n",
    "    # Simple check to check if page was blocked (Usually 503)\n",
    "    if r.status_code > 500:\n",
    "        if \"To discuss automated access to Amazon data please contact\" in r.text:\n",
    "            print(\"Page %s was blocked by Amazon. Please try using better proxies\\n\"%url)\n",
    "        else:\n",
    "            print(\"Page %s must have been blocked by Amazon as the status code was %d\"%(url,r.status_code))\n",
    "        return None\n",
    "    # Pass the HTML of the page and create \n",
    "    return e.extract(r.text)"
   ]
  },
  {
   "cell_type": "code",
   "execution_count": 13,
   "metadata": {
    "tags": [
     "outputPrepend"
    ]
   },
   "outputs": [
    {
     "output_type": "stream",
     "name": "stdout",
     "text": [
      "t, Trousers (Set 2, 19 Pieces)\n",
      "Saving Product: 16 Pieces Button Waist Extender Waistband Pants Extender Metal Rubber Waist Extender with 16 Styles for Women Men Jeans Skirts Trousers Collars Supplies\n",
      "Downloading https://www.amazon.com/s?k=waist+extender&page=5&qid=1619233412&ref=sr_pg_5\n",
      "Saving Product: 16 Pcs Adjustable Jean Button Pins Replacement Kit Snap Button Extender for Pants Waist Buckle Cowboy Clothing Jackets No Sew Needed Instant Button Pins for Jeans (Style8)\n",
      "Saving Product: Maidenform Womens Wide Low Back Converter\n",
      "Saving Product: AHEYE Elastic Pants Waist Extender - 15 Pack Retractable Jeans Button, Elastic Metal Button Pant Waistband Expander for Men or Women for Jean Skirts Trousers Collars Cuffs\n",
      "Saving Product: 8 Sets Adjustable Waist Buckle Snap Jean Buckle Extender Removable Waist Buckle Extender for Jeans Pants Tightness Adjustment, 4 Colors\n",
      "Saving Product: JITIFI Women's Postpartum Waist Trainer Belt Body Shaper Belly Wrap Compression Band\n",
      "Saving Product: Upgraded Button Pins for Jeans 8 Pcs, Waist Pants Button Replacement Extender Adjustable for All Stature\n",
      "Saving Product: 20pcs Upgraded Adjustable Nail-Free Waist Buckles, Premium 4 Sets Adjustable Waist Buckle Extender Set Jeans Extender Waist Extender Button for Pants Jeans, Reuseable Jean Buttons (Black)\n",
      "Saving Product: Atbuty Super Short Torso Waist Trainers Cincher Corset Tummy Shaper Slimming Latex Trimmer Girdle\n",
      "Saving Product: Tugaizi 14 pack Waistband Extender Set Spring Elastic Metal Collar Neck Extender and Buttons Extenders Denim Button Extender Pants Waist Extender with Metal Button\n",
      "Saving Product: AUEAR, 6 Pack Pants Waistband Extender Button Pregnant Buttons Extenders for Women Jeans Pants Waist\n",
      "Saving Product: Adjustable Nail-Free Waist Buckle,Waist Buckle Extender Set Jeans Extender Waist Extender Button for Pants Jeans,The Best Tool to Tighten Pants and Skirts(3 Set)\n",
      "Saving Product: Set of 3 Women's Cotton or Bamboo Maternity Belly Band Clothing Extenders-SM-XXL\n",
      "Saving Product: Button Waist Extender (10-pack) - Add 1\" to your pants' waist instantly!\n",
      "Saving Product: Jeans Waistband Extender Buttons in 4 Denim Color Sets with Elastic Waist Extenders 5 Pack Adjustable Pants Waistband for Men and Women No-sew\n",
      "Saving Product: 50 Pcs Adjustable Waist Buckle, BetterJonny Nail-Free Extender Waist Buckles Button Set for Pants Adjustable Jean Button Perfect Fit Instant Button (Silver)\n",
      "Saving Product: Amazon Essentials Men's Big & Tall Cargo Short fit by DXL\n",
      "Saving Product: Jeans Button Pins,Instant Replacement Buttons,Adjustable Pant Button Pins for Jeans Skirts Trousers Collars Men Women Favors,No Sew,Adds Or Reduces an Inch to Any Pants Waist in Seconds (10 PCS)\n",
      "Saving Product: 96 Pieces Replacement Jean Buttons No Sew Instant Button Detachable Pants Button Pins Adjustable Waist Buckle Extender 16 Set Nail-Free Button, 4 Colors\n",
      "Saving Product: Home-X Easy Fit Hooks & Buttons for Slacks, Waistband Extenders to Give You a More Relaxed Feel, 5 Color Set (1/2\" - 2\" Extension)\n",
      "Saving Product: Women's Lace Extender Mini Lace Underskirt Skirts Half Slip Extra Length Plus Size\n",
      "Saving Product: Adjustable Waist Buckle Extender, Nail-Free Jeans Waist Buckles, Waist Extender Button for Pants Jeans\n",
      "Saving Product: HDE Collar Stays, Collar Extenders for Mens Shirts, Tie Clip Tack Invisible Stay, & Waist Extenders\n",
      "Saving Product: Adjustable Jeans Buttons Pins, 8 Pcs Perfect Fit Instant Removable Button with 2 Pcs Button Extenders No Sew Needed, Waist Buckle Extender Set Adds Or Reduces an Inch to Any Pants Waist in Seconds\n",
      "Saving Product: CASHIMRE Belly Band-Denim Waist Extender with Metal Button for Jeans Men and Women Button for Jeans (6-Pack)\n",
      "Saving Product: 40 Pieces Adjustable Waist Buckle Extender Set, Nail-Free Waist Buckle Extender Jeans Waist Extender Button for Pants Adjustable Snap Button\n",
      "Saving Product: 8 Sets Adjustable Waist Buckle, Adjustable Waist Buckle Extender Pants Extender Waist Extender Button for Adults and Children, Flexible Nail-Free Snap Button (21-24 mm)\n",
      "Saving Product: [Upgraded] 8pcs Buttons Pins for Jeans, 4pcs Button Extender, No Sewing Jeans Button Pins for Cowboy Clothing Jackets Pants Bags DIY, Adjustable and Removable Instant Button for Men and Women\n",
      "Saving Product: Levi's Men's 505 Regular Fit Jeans\n",
      "Saving Product: [Upgraded] 12 Set Button Pins for Jeans, Perfect Fit Jean Button Replacement, No-Sew Needed Instant Button with 3 Button Extender Instant Extend or Reduce Any Pants Waist-Mixed Colours\n",
      "Saving Product: 20Pieces Nail-Free Waist Buckle, Adjustable Waist Buckle Extender Jeans Extender Waist Extender Button for Adults, Pants Adjustable Jean Button (S:27mm)\n",
      "Saving Product: 10 Sets Adjustable Waist Buckle Extender Set Jeans Extender Waist Extender Button for Pants Adjustable Jean Button Fit Instant Button (Silver)\n",
      "Saving Product: 8Pcs Set 17 mm Perfect Fit DIOSAVO Instant Button, Adjustable Button Instant, Adds Or Reduces an Inch to Any Pants Waist in Seconds (Style_6)\n",
      "Saving Product: Fertile Mind - Belly Belt Combo, The Ultimate Maternity Wear Solution\n",
      "Saving Product: 50 Pieces Adjustable Waist Buckle Extender Set, Yotako Jean Waist Tightener Jean Buttoned Replacement Clip Snap Tack Metal Button Jeans Button Attacher for Loose Pant Gifts for Women\n",
      "Saving Product: DoHope Longline Bra Corset Extenders for Bustiers Shapewear Waist Cincher Black\n",
      "Saving Product: Button Waist Extender Waistband Extender Pants Waist Extender for Jeans Skirts Trousers Collars Men Women Favors(7 pcs Extender Buttons + 7 pcs Nail-Free Metal Buttons)\n",
      "Saving Product: Fanny Pack Belt Bag, Holographic Fanny Packs for Women Men Kids, Fashion Waterproof Waist Pack with 3 Pouches Adjustable Strap, Shiny Causal Bags Cute Bum Bag Hip Sacks for Travel Festival Hiking Rave\n",
      "Saving Product: 96 Pieces Adjustable Waist Buckle Extender Set Replacement Jean Buttons Adjustable Jean Extender with Fastener Buckles, 4 Colors for Pants Jeans Reusable Supplies\n",
      "Saving Product: 25 Pieces Adjustable Nail-Free Waist Buckles Extender Set, Replacement Jean Buttons, Perfect Fit Instant Button, No Sew Waist Buckle with Rivets, Adjustable Buttons (Five Colors(25pcs)\n",
      "Saving Product: QACOWW 12 Pieces Necklace Extension Clasps Set, Chain Extenders for Necklace Bracelet Jewelry Making Supplies (Gold)\n",
      "Saving Product: 20 Sets Metal Collar Buttons, Collar Extenders Elastic Pants Waist Extender Premium Elastic Dress Shirt Neck Extenders\n",
      "Saving Product: ZORFIN Fanny Pack for Women & Men Fashion Water Resistant Waist Bag Pack for Running Walking Traveling Hiking (Black)\n",
      "Saving Product: Elastic Pants Waist Extenders, Adjustable Pant Button Extenders for Jeans Skirts Pants, Maternity Waistband Button Extender Set (5 Pack, Black)\n",
      "Saving Product: Vancool 5pcs Adjustable Elastic Pants Waist Extender\n",
      "Saving Product: Pants Button Adjuster 12 Pcs Button Pin for Jeans No Sew, LACE INN 6 Style Fashion Button Pins Perfect Fit Jean Button Extenders Replacement Kits Instant Add or Reduce Any Pants Waist\n",
      "Saving Product: Adjustable Waist Buckle Extender, Nail-Free Jeans Waist Buckles, Waist Extender Button for Pants Jeans(4 sets/20 Pieces, 2 Styles)\n",
      "Saving Product: DEMDACO Elastic Waist Black Extra Large Polyester Fabric Camisole Shirt Extender\n",
      "Saving Product: Comfecto Waist Extender for Pants for Women Men, Button Extenders for Dress Shirts Khakis Short, Cloth Fabric in Various Color, 5 Pack\n",
      "Downloading https://www.amazon.com/s?k=waist+extender&page=6&qid=1619233425&ref=sr_pg_6\n",
      "Saving Product: WILLBOND 8 Pieces Maternity Pants Extender Elastic Pant Button Extenders Adjustable Waistband Extender for Pregnancy Women Men Jeans Pants Favors\n",
      "Saving Product: WILLBOND 24 Pieces Collar Extenders Elastic Button Extender Neck Extenders for Shirt Pants Dress Trouser Favors\n",
      "Saving Product: Denim Instant Buttons Adjustable Waist Expansion Buckle, Silicone Extender No Sew Replacement Buttons, Jean Pants Button Pins Style Snap Botton(13pcs)\n",
      "Saving Product: 6 PCS Pants Extender Button, Luxiv Waistband Extender Buttons for Men and Women, Jeans Waist Extender Metal Buttons No Sew Button for Extender Jeans Pants Collar (1.4in)\n",
      "Saving Product: Comfecto Waist Extender for Pants for Women Men, Button Extenders for Dress Shirts Khakis Short, Cloth Fabric in Various Color, 5 Pack\n",
      "Saving Product: HDE Collar Stays, Collar Extenders for Mens Shirts, Tie Clip Tack Invisible Stay, & Waist Extenders\n",
      "Saving Product: 18 Pcs Button Pins for Jeans Jacket No Sew - 12 Pcs Button Replacement - 6 Pcs Button Extender for Pants Adjustable Kit Reduce or Extend Jean Pants Waist (18Pcs Pins&Extender)\n",
      "Saving Product: Vancool 5pcs Adjustable Elastic Pants Waist Extender\n",
      "Saving Product: Pimoys 24 Pieces Waist Buckle Extender Set, 4 Set Adjustable Jeans Extender Button Jeans Snap Instant Button for Jeans Pants\n",
      "Saving Product: Pant Button Extenders by Johnson & Smith | Flexible Button Extender for Pants | Pack of 3\n",
      "Saving Product: Women's Longline Bra Back Corset Extenders for Bustiers Shapewear Waist Cincher\n",
      "Saving Product: 4 Sets Adjustable Nail-Free Waist Buckles, Jeans Button Hooking Metal Buckles Replacement Clip Waist Buckle Extender for Loose Pant Women Jeans Instant Buttons\n",
      "Saving Product: FYDELITY- XL Plus Size Ultra-Slim Fanny Pack w/Extra Long Waist Belt Bag\n",
      "Saving Product: Darhoo 16 Pcs Button Pins for Jeans,Perfect Fit Instant Button Jean Replacement,No Sew Adjustable Jeans Button Extender, Retractable Removable Button Pin Set to Add or Reduce Pants Waist for Women Men\n",
      "Saving Product: ORNOOU 20 Pieces Adjustable Waist Buckle Extender Set Jeans Extender Waist Extenders Button for Pants,32 mm\n",
      "Saving Product: eZAKKA Pant Button Extender 6Pcs 20mm Waistband Extender for Men Women Jeans Button Extenders for Maternity Pregnancy, No Sew Adjustable Elastic Spring Metal Button\n",
      "Saving Product: Hahiyo Elastic Waist Extenders 81.5x26mm Denim Adjustable Button Buckle Not Press and Irritate Skin Laid Flat Flexible Easy to Hide for Waistband Pregnant Clothes Jeans Pants Driving Assorted 5pieces\n",
      "Saving Product: WILLBOND 19 Pieces Waistband Extender Adjustable Pant Button Extender for Women Men Pants Jeans Trousers Favors\n",
      "Saving Product: WILLBOND 12 Packs Adjustable Maternity Pants Extender Pregnancy Waistband Extender Waist Extenders Elastic Pregnancy Trouser Button Extenders for Pregnancy Women\n",
      "Saving Product: Everest Signature Pattern Waist Pack, Galaxy, One Size,P044KD-GALAXY\n",
      "Saving Product: NBEADS Waist Extender Button, 12 Styles Mixed Style Metal Adjustable Buckle Button Fasteners for Jeans Pants Collar Making\n",
      "Saving Product: 6-Pack Denim Waist Extenders for Jeans, Trousers and Skirt\n",
      "Saving Product: QACOWW 12 Pieces Necklace Extension Clasps Set, Chain Extenders for Necklace Bracelet Jewelry Making Supplies (Gold)\n",
      "Saving Product: lorelo 50 Pieces Adjustable Waist Buckle Extender Set Jeans Extender Button Waist Extender Button for Pants\n",
      "Saving Product: CALIDAKA Adjustable Waist Buckle Extender 4 Set Jeans Waist Extender Waist Extender Button for Pants Nail-Free Waist Buckles, Adjustable Replacement Jean Button\n",
      "Saving Product: Button Waist Extender Stretch Waistband Extender Elastic Metal Button Extender for Women Men Jeans Skirts Trousers Collars Supplies, 12 Styles (12 Pieces)\n",
      "Saving Product: 6 Sets Adjustable Jeans Metal Button Pins Replacement Kit Snap Button Extender for Pants Waist Buckle Cowboy Clothing Jackets No Sew Needed Button(6PCS,Style1)\n",
      "Saving Product: Levi's Men's 505 Regular Fit Jeans\n",
      "Saving Product: Stretch Comfort Waist Extension for Jeans & Pants - Simply Button on to Make 2\" Elastic/Stretchy Waistband Instantly (5)\n",
      "Saving Product: DEMDACO Elastic Waist Black Extra Large Polyester Fabric Camisole Shirt Extender\n",
      "Saving Product: MUAECH 2 Sets Adjustable Nail Free Waist Buckle for Jeans, No Sew Snap Jeans Button for Women Pants Perfect Fit Instant Button, Waist Extender Buttons for Pants Clothes-Silver\n",
      "Saving Product: Skylety Waistband Extender Pants Waist Elastic Extenders Set, 3 Types for Jeans, Skirt, Trousers (Set 1, 13 Pieces)\n",
      "Saving Product: 16 Pieces Button Waist Extender Waistband Pants Extender Metal Rubber Waist Extender with 16 Styles for Women Men Jeans Skirts Trousers Collars Supplies\n",
      "Saving Product: 4pcs Premium Button Extender for Pants, Pants Extender for Maternity,Buttons Extender for Men Women, Waistband Extenders Jean,Waist Extenders Black,Pants Button Extender (Elastic)\n",
      "Saving Product: CREATPRET Shirt Extender for Women Plus Size Skirt Extenders Band White and Black 2 Pieces\n",
      "Saving Product: 28pcs Waist Buckle Extender Set, No Sew Adjustable Jeans Extender Waist Extender Button for Pants Reuseable Jean Buttons (4 Sets) (Bronze)\n",
      "Saving Product: Clear Fanny Pack,Stadium Approved Waist Pack for Festival, Games,Travel and Concerts\n",
      "Saving Product: 96 Pieces Adjustable Waist Buckles Extender Set Jeans Buckles Extender Removable Waist Button Snap for Pants Jeans Sewing Crafts, 16 Sets, 4 Colors\n",
      "Saving Product: Vancool 10pcs 0.74\" Metal Denim Waist Extenders\n",
      "Saving Product: upain 18Pcs Adjustable Waist Buckle Extender Set Jeans Extender Waist Button Metal Nail-Free Waist Buckle Instant Snap Button for Pants Jeans Tighten Waist\n",
      "Saving Product: 10 Pack Button Waist Extender, Elastic Metal Button No Sewing Jeans Button, Bronze\n",
      "Saving Product: Awolf 1 Set of 8 Pcs Perfect Fit Instant Button, 17mm Detachable Pants Button Craft Decoration Buttons, Waist Buckle Extender- Metal Button Fits to Any The Cowboy Clothing Jackets Pants Bags\n",
      "Saving Product: Maidenform Womens Wide Low Back Converter\n",
      "Saving Product: LITMIND 20 Pieces Button Pins for Jeans, Adjustable Waist Buckle Extender, Perfect Fit Instant Button for Pants\n",
      "Saving Product: 48 Pack/8 Sets Waist Buckles,Nail Free Waist Buckle Adjustable Waist Buckles Extender Metal Snaps Button,No Need Sew Waist Buckle Set for Pants, Replacement Jean Buttons(4 Colors)\n",
      "Saving Product: DB MOON Women Casual Long Sleeve Dresses Empire Waist Loose Dress with Pockets\n",
      "Saving Product: willikiva Pant Expander Button for Waist 4PCS No Sew Buttons Pants Waist Extender for Jeans Skirts Trousers Collars Men Women Favors(Z028)\n",
      "Saving Product: Karlota 17mm Brass Replacement Adjustable Jeans Button pins kit Metal no Sewing Waist Extenders Buttons Jeans Suspender Pants Extender buttoneer Repair kit\n",
      "Saving Product: 8 Set Adjustable Waist Buckle Extender, Nail-Free Waist Buckle Jeans Extender for Pants Adjustable Jean Button Perfect Fit Instant Button 4 Colors\n",
      "Saving Product: Amazon Essentials Men's Classic-fit Wrinkle-Resistant Flat-Front Chino Pant\n",
      "Saving Product: Jean Instant Button Replacement Extender - Perfect 16mm Removable 4pcs Fashion No Sew Require Buttons for Pants Clothing DIY Comfy Waist Selatamy\n",
      "Saving Product: DEMDACO Sheer Floral Lace Women's Stretch Polyester Shirt Extender\n",
      "Saving Product: 8 Sets Waistband Extenders Button Adjustable Waistband Extender for Pants with 8 Button Pins for Men Women Jeans\n",
      "Saving Product: DoHope Longline Bra Corset Extenders for Bustiers Shapewear Waist Cincher White\n",
      "Saving Product: JYHF 4 Sets 1 inch Replacement Jean Buttons for Sewing, Adjustable Waist Buckle Extender Set Jeans Extender Snaps for Sewing, Button Extender for Pants,Perfect Fit Instant Button (Sliver)\n",
      "Saving Product: Pants Waist Extenders in 3 Fastener Designs, Adjustable Waistbands for Men's and Women's Jeans (3.3 x 1.5 in, 14-Pack)\n",
      "Saving Product: Zeagoo Women High Waist Lace Floral Midi Skirt Extender with Lace Trim\n",
      "Saving Product: EBSTL 40 Pieces 8 Set Nail Free Removable 32mm Bronze Waist Buckle Adjustable Waist Buckle Extender Set Jeans Extender Waist Extender Button for Jeans Pants Perfect Fit Instant Button\n",
      "Saving Product: Comfy Pants Bundle - 13 Pant Waist Extenders (3 Types) for Dress Pants, Khakis and Jeans\n",
      "Saving Product: TOODOO 6 Pieces Button Extender Waist Extender with Metal Button for Pants, Jeans, Trousers and Skirt, Black, Blue and Dark Blue\n",
      "Downloading https://www.amazon.com/s?k=waist+extender&page=7&qid=1619233457&ref=sr_pg_7\n",
      "Saving Product: 16 Pieces Button Waist Extender Waistband Pants Extender Metal Rubber Waist Extender with 16 Styles for Women Men Jeans Skirts Trousers Collars Supplies\n",
      "Saving Product: TOODOO 6 Pieces Button Extender Waist Extender with Metal Button for Pants, Jeans, Trousers and Skirt, Black, Blue and Dark Blue\n",
      "Saving Product: 4pcs Premium Button Extender for Pants, Pants Extender for Maternity,Buttons Extender for Men Women, Waistband Extenders Jean,Waist Extenders Black,Pants Button Extender (Elastic)\n",
      "Saving Product: ZEFFFKA Denim Waist Extender Button for Jeans and Skirt Comfy Metal Buttons 4 pcs Assorted Colors\n",
      "Saving Product: Pants Waist Extenders in 3 Fastener Designs, Adjustable Waistbands for Men's and Women's Jeans (3.3 x 1.5 in, 14-Pack)\n",
      "Saving Product: EBSTL 40 Pieces 8 Set Nail Free Removable 32mm Bronze Waist Buckle Adjustable Waist Buckle Extender Set Jeans Extender Waist Extender Button for Jeans Pants Perfect Fit Instant Button\n",
      "Saving Product: Adjustable Waist Buckle Extender Set-20 Pieces Adjustable Perfect Fit Instant Buttoned Hooking Metal Buckles Replacement Clip Snap Tack Metal Button Jeans Button Attacher for Loose Pant (White&Black)\n",
      "Saving Product: The Children's Place Boys' Basic Straight Jeans\n",
      "Saving Product: Bitray 8 PCS Button Pant Extender, Flex Retractable Jeans Button Adjustable Telescopic Buckle Multifunction Pants Waist Stretch Button for Jeans Button Accessories\n",
      "Saving Product: willikiva Waistband Extenders Waist Button 4PCS for Jeans Men Women No Sew Metal Button(Z033)\n",
      "Saving Product: Lady Slim Fajas Colombianas Reductoras Y Moldeadoras para Mujer Latex Waist Trainer Cincher Shaper for Women\n",
      "Saving Product: ZSXIN 12 Sets Button Pins for Jeans, No Sew Jean Buttons Replacement,Removable Adjustable Instant Extender or Reduce Any Pants Waist (Silver)\n",
      "Saving Product: S&J Products 560261 EXTEND A SNAP 4PER BAG\n",
      "Saving Product: Fanny Pack, AirBuyW 3 Zippered Compartments Adjustable Waist Sport Fanny Pack Bag\n",
      "Saving Product: TOPTIE 15 Pack Elastic Waist Extenders, Khaki Adjustable Pants Button Extender for Men and Women\n",
      "Saving Product: Self-Adjusting Button & Hook Waist Stretch Extender Helps Save on Maternity Clothes (4-pk: Small Hook + Button, Large Hook + Button)\n",
      "Saving Product: Hahiyo Elastic Waist Extenders 81.5x26mm Denim Adjustable Button Buckle Not Press and Irritate Skin Laid Flat Flexible Easy to Hide for Waistband Pregnant Clothes Jeans Pants Driving Assorted 5pieces\n",
      "Saving Product: WILLBOND 19 Pieces Waistband Extender Adjustable Pant Button Extender for Women Men Pants Jeans Trousers Favors\n",
      "Saving Product: 25-Pack Variety Button Pant Waistband Extender Set\n",
      "Saving Product: 8 Sets 17mm Replacement Jean Buttons,Adjustable Jean Button,No Sew Instant Button Detachable Pants Button Pins,Button Pins for Jeans,Metal Button Adds Pants Waist in Seconds(Silver)\n",
      "Saving Product: Amazon Essentials Men's Classic-fit Wrinkle-Resistant Flat-Front Chino Pant\n",
      "Saving Product: Awolf 1 Set of 4 Pcs Perfect Fit Instant Button, 17mm Detachable Pants Button Craft Decoration Buttons, Waist Buckle Extender- Metal Button Fits to Any The Cowboy Clothing Jackets Pants Bags\n",
      "Saving Product: 2 Pair Crystal Closure Connectors Clasps Button Metal Waist Extender Hooks Eyes Clasps Fastener for Clothes 68mm x 25mm\n",
      "Saving Product: Coco’s Closet Low Back Bra – Adjustable Bra Extender for Backless Dress – 2, 3 Hook Strap Converter - Color Nude, Black\n",
      "Saving Product: Skylety Waistband Extender Pants Waist Elastic Extenders Set, 3 Types for Jeans, Skirt, Trousers (Set 1, 13 Pieces)\n",
      "Saving Product: WILLBOND 12 Packs Adjustable Maternity Pants Extender Pregnancy Waistband Extender Waist Extenders Elastic Pregnancy Trouser Button Extenders for Pregnancy Women\n",
      "Saving Product: Comfy Pants Bundle - 13 Pant Waist Extenders (3 Types) for Dress Pants, Khakis and Jeans\n",
      "Saving Product: WILLBOND 24 Pieces Collar Extenders Elastic Button Extender Neck Extenders for Shirt Pants Dress Trouser Favors\n",
      "Saving Product: WILLBOND 8 Pieces Maternity Pants Extender Elastic Pant Button Extenders Adjustable Waistband Extender for Pregnancy Women Men Jeans Pants Favors\n"
     ]
    }
   ],
   "source": [
    "\n",
    "# product_data = []\n",
    "with open(\"search_results_urls.txt\",'r') as urllist, open('revised_search_results_output.jsonl','w') as outfile:\n",
    "    for url in urllist.read().splitlines():\n",
    "        data = scrape(url) \n",
    "        if data:\n",
    "            for product in data['products']:\n",
    "                product['search_url'] = url\n",
    "                print(\"Saving Product: %s\"%product['title'])\n",
    "                json.dump(product,outfile)\n",
    "                outfile.write(\"\\n\")\n",
    "                sleep(0.25)"
   ]
  },
  {
   "cell_type": "code",
   "execution_count": 3,
   "metadata": {},
   "outputs": [
    {
     "output_type": "stream",
     "name": "stdout",
     "text": [
      "Downloading https://www.amazon.com/s?k=waist+extender\n"
     ]
    }
   ],
   "source": [
    "with open(\"search_results_urls.txt\",'r') as urllist:\n",
    "    for url in urllist.read().splitlines():\n",
    "        data = scrape(url) "
   ]
  },
  {
   "cell_type": "code",
   "execution_count": null,
   "metadata": {},
   "outputs": [],
   "source": [
    "#todo\n",
    "# open amazon\n",
    "# find the search box and input the content, waist extender for now\n",
    "# get number of pages of the search result\n"
   ]
  },
  {
   "cell_type": "code",
   "execution_count": 8,
   "metadata": {},
   "outputs": [
    {
     "output_type": "execute_result",
     "data": {
      "text/plain": [
       "E3,g=0;a.ue_err&&s&&(a.ue_err.errorHandlers||(a.ue_err.errorHandlers=[]),a.ue_err.errorHandlers.push({name:\"ext\",handler:function(a){if(!a.logLevel||\"FATAL\"===a.logLevel){var f=c(!0),d=[],h;for(h in f){var f=h,g=f.match(/amazon(\\\\.com?)?\\\\.\\\\w{2,3}$/i);g&&1<g.length||-1!==f.indexOf(\"amazon-adsystem.com\")||-1!==f.indexOf(\"amazonpay.com\")||-1!==f.indexOf(\"cloudfront-labs.amazonaws.com\")||\\nd.push(h)}a.ext=d}}}));a.ue&&a.ue.isl?c():a.ue&&ue.attach&&ue.attach(\"load\",q)})(document,window);\\n\\n\\n\\n\\n\\nvar ue_wtc_c = 3;\\nue_csm.ue.exec(function(b,e){function l(){for(var a=0;a<f.length;a++)a:for(var d=s.replace(A,f[a])+g[f[a]]+t,c=arguments,b=0;b<c.length;b++)try{c[b].send(d);break a}catch(e){}g={};f=[];n=0;k=p}function u(){B?l(q):l(C,q)}function v(a,m,c){r++;if(r>w)d.count&&1==r-w&&(d.count(\"WeblabTriggerThresholdReached\",1),b.ue_int&&console.error(\"Number of max call reached. Data will no longer be send\"));else{var h=c||{};h&&-1<h.constructor.toString().indexOf(D)&&a&&-1<a.constructor.toString().indexOf(x)&&m&&-1<\\nm.constructor.toString().indexOf(x)?(h=b.ue_id,c&&c.rid&&(h=c.rid),c=h,a=encodeURIComponent(\",wl=\"+a+\"/\"+m),2E3>a.length+p?(2E3<k+a.length&&u(),void 0===g[c]&&(g[c]=\"\",f.push(c)),g[c]+=a,k+=a.length,n||(n=e.setTimeout(u,E))):b.ue_int&&console.error(\"Invalid API call. The input provided is over 2000 chars.\")):d.count&&(d.count(\"WeblabTriggerImproperAPICall\",1),b.ue_int&&console.error(\"Invalid API call. The input provided does not match the API protocol i.e ue.trigger(String, String, Object).\"))}}function F(){d.trigger&&\\nd.trigger.isStub&&d.trigger.replay(function(a){v.apply(this,a)})}function y(){z||(f.length&&l(q),z=!0)}var t=\":1234\",s=\"//\"+b.ue_furl+\"/1/remote-weblab-triggers/1/OE/\"+b.ue_mid+\":\"+b.ue_sid+\":PLCHLDR_RID$s:wl-client-id%3DCSMTriger\",A=\"PLCHLDR_RID\",E=b.wtt||1E4,p=s.length+t.length,w=b.mwtc||2E3,G=1===e.ue_wtc_c,B=3===e.ue_wtc_c,H=e.XMLHttpRequest&&\"withCredentials\"in new e.XMLHttpRequest,x=\"String\",D=\"Object\",d=b.ue,g={},f=[],k=p,n,z=!1,r=0,C=function(){return{send:function(a){if(H){var b=new e.XMLHttpRequest;\\nb.open(\"GET\",a,!0);G&&(b.withCredentials=!0);b.send()}else throw\"\";}}}(),q=function(){return{send:function(a){(new Image).src=a}}}();e.encodeURIComponent&&(d.attach&&(d.attach(\"beforeunload\",y),d.attach(\"pagehide\",y)),F(),d.trigger=v)},\"client-wbl-trg\")(ue_csm,window);\\n\\n\\n(function(k,d,h){function f(a,c,b){a&&a.indexOf&&0===a.indexOf(\"http\")&&0!==a.indexOf(\"https\")&&l(s,c,a,b)}function g(a,c,b){a&&a.indexOf&&(location.href.split(\"#\")[0]!=a&&null!==a&&\"undefined\"!==typeof a||l(t,c,a,b))}function l(a,c,b,e){m[b]||(e=u&&e?n(e):\"N/A\",d.ueLogError&&d.ueLogError({message:a+c+\" : \"+b,logLevel:v,stack:\"N/A\"},{attribution:e}),m[b]=1,p++)}function e(a,c){if(a&&c)for(var b=0;b<a.length;b++)try{c(a[b])}catch(d){}}function q(){return d.performance&&d.performance.getEntriesByType?\\nd.performance.getEntriesByType(\"resource\"):[]}function n(a){if(a.id)return\"//*[@id=\\'\"+a.id+\"\\']\";var c;c=1;var b;for(b=a.previousSibling;b;b=b.previousSibling)b.nodeName==a.nodeName&&(c+=1);b=a.nodeName;1!=c&&(b+=\"[\"+c+\"]\");a.parentNode&&(b=n(a.parentNode)+\"/\"+b);return b}function w(){var a=h.images;a&&a.length&&e(a,function(a){var b=a.getAttribute(\"src\");f(b,\"img\",a);g(b,\"img\",a)})}function x(){var a=h.scripts;a&&a.length&&e(a,function(a){var b=a.getAttribute(\"src\");f(b,\"script\",a);g(b,\"script\",a)})}\\nfunction y(){var a=h.styleSheets;a&&a.length&&e(a,function(a){if(a=a.ownerNode){var b=a.getAttribute(\"href\");f(b,\"style\",a);g(b,\"style\",a)}})}function z(){if(A){var a=q();e(a,function(a){f(a.name,a.initiatorType)})}}function B(){e(q(),function(a){g(a.name,a.initiatorType)})}function r(){var a;a=d.location&&d.location.protocol?d.location.protocol:void 0;\"https:\"==a&&(z(),w(),x(),y(),B(),p<C&&setTimeout(r,D))}var s=\"[CSM] Insecure content detected \",t=\"[CSM] Ajax request to same page detected \",v=\"WARN\",\\nm={},p=0,D=k.ue_nsip||1E3,C=5,A=1==k.ue_urt,u=!0;ue_csm.ue_disableNonSecure||(d.performance&&d.performance.setResourceTimingBufferSize&&d.performance.setResourceTimingBufferSize(300),r())})(ue_csm,window,document);\\n\\n\\nvar ue_aa_a = \"C\";\\nif (ue.trigger && (ue_aa_a === \"C\" || ue_aa_a === \"T1\")) {\\n    ue.trigger(\"UEDATA_AA_SERVERSIDE_ASSIGNMENT_CLIENTSIDE_TRIGGER_190249\", ue_aa_a);\\n}\\n(function(f,b){function g(){try{b.PerformanceObserver&&\"function\"===typeof b.PerformanceObserver&&(a=new b.PerformanceObserver(function(b){c(b.getEntries())}),a.observe(d))}catch(h){k()}}function m(){for(var h=d.entryTypes,a=0;a<h.length;a++)c(b.performance.getEntriesByType(h[a]))}function c(a){if(a&&Array.isArray(a)){for(var c=0,e=0;e<a.length;e++){var d=l.indexOf(a[e].name);if(-1!==d){var g=Math.round(b.performance.timing.navigationStart+a[e].startTime);f.uet(n[d],void 0,void 0,g);c++}}l.length===\\nc&&k()}}function k(){a&&a.disconnect&&\"function\"===typeof a.disconnect&&a.disconnect()}if(\"function\"===typeof f.uet&&b.performance&&\"object\"===typeof b.performance&&b.performance.getEntriesByType&&\"function\"===typeof b.performance.getEntriesByType&&b.performance.timing&&\"object\"===typeof b.performance.timing&&\"number\"===typeof b.performance.timing.navigationStart){var d={entryTypes:[\"paint\"]},l=[\"first-paint\",\"first-contentful-paint\"],n=[\"fp\",\"fcp\"],a;try{m(),g()}catch(p){f.ueLogError(p,{logLevel:\"ERROR\",\\nattribution:\"performanceMetrics\"})}}})(ue_csm,window);\\n\\n\\nif (window.csa) {\\n    csa(\"Events\")(\"setEntity\", {\\n        page:{pageType: \"Search\", subPageType: \"List\", pageTypeId: \"\"}\\n    });\\n}\\ncsa.plugin(function(e){var i=\"transitionStart\",n=\"pageVisible\",t=\"PageTiming\",a=\"visibilitychange\",o=e(\"Events\",{producerId:\"csa\"}),r=(e.global.performance||{}).timing,d=[\"navigationStart\",\"unloadEventStart\",\"unloadEventEnd\",\"redirectStart\",\"redirectEnd\",\"fetchStart\",\"domainLookupStart\",\"domainLookupEnd\",\"connectStart\",\"connectEnd\",\"secureConnectionStart\",\"requestStart\",\"responseStart\",\"responseEnd\",\"domLoading\",\"domInteractive\",\"domContentLoadedEventStart\",\"domContentLoadedEventEnd\",\"domComplete\",\"loadEventStart\",\"loadEventEnd\"],c=e.config,l=e.global.document||{},s=(r||{}).navigationStart,u=s,m={},g=0,v=0,f=c[t+\".BatchInterval\"]||3e3,p=0,S=!0;if(!c[\"KillSwitch.\"+t]){if(!r||null===s||s<=0||void 0===s)return e.error(\"Invalid navigation timing data: \"+s);\"boolean\"!=typeof l.hidden&&\"string\"!=typeof l.visibilityState||!l.removeEventListener||((S=L())?(E(n,s),b()):e.on(l,a,function t(){(S=L())&&(u=e.time(),l.removeEventListener(a,t),E(n,u),E(i,u),b())})),e.once(\"$unload\",h),e.once(\"$load\",h),e.on(\"$beforePageTransition\",y),e.on(\"$pageTransition\",function(){u=e.time()}),e.register(t,{mark:E})}function E(t,n){null!=t&&(n=n||e.time(),t===i&&(u=n),m[t]=n,b(),e.emit(\"$timing:\"+t,n))}function h(){!function(){if(p)return;for(var t=0;t<d.length;t++)r[d[t]]&&E(d[t],r[d[t]]);p=1}(),g=1,b(!0)}function b(t){g&&S&&!v&&(v=e.timeout(y,t?0:f))}function y(){0<Object.keys(m).length&&(o(\"log\",{markers:function(t,n){var e={};for(var i in t)t.hasOwnProperty(i)&&(e[i]=Math.max(0,t[i]-n));return e}(m,u),markerTimestamps:function(t){for(var n in t)t.hasOwnProperty(n)&&(t[n]=Math.floor(t[n]));return t}(m),navigationStartTimestamp:u?new Date(u).toISOString():null,schemaId:\"<ns>.PageLatency.5\"},{ent:{page:[\"pageType\",\"subPageType\",\"requestId\"]}}),m={}),v=0}function L(){return!l.hidden||\"visible\"===l.visibilityState}});csa.plugin(function(e){var m=!!e.config[\"LCP.elementDedup\"],t=!1,n=e(\"PageTiming\"),r=e.global.PerformanceObserver,a=e.global.performance;function i(){return a.timing.navigationStart}function o(){t||function(o){var l=new r(function(e){var t=e.getEntries();if(0!==t.length){var n=t[t.length-1];if(m&&\"\"!==n.id&&n.element&&\"IMG\"===n.element.tagName){for(var r={},a=t[0],i=0;i<t.length;i++)t[i].id in r||(\"\"!==t[i].id&&(r[t[i].id]=!0),a.startTime<t[i].startTime&&(a=t[i]));n=a}l.disconnect(),o({startTime:n.startTime,renderTime:n.renderTime,loadTime:n.loadTime})}});try{l.observe({type:\"largest-contentful-paint\",buffered:!0})}catch(e){}}(function(e){e&&(t=!0,n(\"mark\",\"largestContentfulPaint\",Math.floor(e.startTime+i())),e.renderTime&&n(\"mark\",\"largestContentfulPaint.render\",Math.floor(e.renderTime+i())),e.loadTime&&n(\"mark\",\"largestContentfulPaint.load\",Math.floor(e.loadTime+i())))})}r&&a&&a.timing&&(e.once(\"$unload\",o),e.once(\"$load\",o),e.register(\"LargestContentfulPaint\",{}))});csa.plugin(function(r){var e=r(\"Metrics\",{producerId:\"csa\"}),n=r.global.PerformanceObserver;n&&(n=new n(function(r){var t=r.getEntries();if(0===t.length||!t[0].processingStart||!t[0].startTime)return;!function(r){r=r||0,n.disconnect(),0<=r?e(\"recordMetric\",\"firstInputDelay\",r):e(\"recordMetric\",\"firstInputDelay.invalid\",1)}(t[0].processingStart-t[0].startTime)}),function(){try{n.observe({type:\"first-input\",buffered:!0})}catch(r){}}())});csa.plugin(function(d){var e=\"Metrics\",r=d.config,u=r[e+\".BatchInterval\"]||3e3;function n(e){var r=e.producerId,n=e.logger,t=n||d(\"Events\",{producerId:r}),i={},o=(e||{}).dimensions||{},c=0;if(!r&&!n)return d.error(\"Either a producer id or custom logger must be defined\");function s(){Object.keys(i).length&&(t(\"log\",{schemaId:e.schemaId||\"<ns>.Metric.3\",metrics:i,dimensions:o},e.logOptions||{ent:{page:[\"pageType\",\"subPageType\",\"requestId\"]}}),i={}),c=0}this.recordMetric=function(e,r){i[e]=r,c=c||d.timeout(s,u)},d.on(\"$beforeunload\",s),d.on(\"$beforePageTransition\",s)}r[\"KillSwitch.\"+e]||(new n({producerId:\"csa\"}).recordMetric(\"baselineMetricEvent\",1),d.register(e,{instance:function(e){return new n(e||{})}}))});csa.plugin(function(c){var e=\"Timers\",r=(c.global.performance||{}).timing,u=(r||{}).navigationStart||c.time(),s=c.config[e+\".BatchInterval\"]||3e3;function n(e){var r=(e=e||{}).producerId,n=e.logger,o={},t=0,i=n||c(\"Events\",{producerId:r});if(!r&&!n)return c.error(\"Either a producer id or custom logger must be defined\");function a(){0<Object.keys(o).length&&(i(\"log\",{markers:o,schemaId:e.schemaId||\"<ns>.Timer.1\"},e.logOptions),o={}),clearTimeout(t),t=0}this.mark=function(e,r){o[e]=(void 0===r?c.time():r)-u,t=t||c.timeout(a,s)},c.once(\"$beforeunload\",a),c.once(\"$beforePageTransition\",a)}r&&c.register(e,{instance:function(e){return new n(e||{})}})});csa.plugin(function(t){var e=\"takeRecords\",i=\"disconnect\",n=\"function\",o=\"removeEventListener\",c=\"click\",a=t(\"Metrics\",{producerId:\"csa\"}),r=t(\"PageTiming\"),u=t.global,f=t.timeout,m=t.on,l=u.PerformanceObserver,s=0,d=!1,v=0,h=u.performance,y=u.document,g=null,p=!1;function T(){d||(d=!0,clearTimeout(g),typeof l[e]===n&&l[e](),typeof l[i]===n&&l[i](),a(\"recordMetric\",\"documentCumulativeLayoutShift\",s),r(\"mark\",\"cumulativeLayoutShiftLastTimestamp\",Math.floor(v+h.timing.navigationStart)))}l&&h&&h.timing&&y&&(l=new l(function(t){g&&clearTimeout(g);t.getEntries().forEach(function(t){t.hadRecentInput||(s+=t.value,v<t.startTime&&(v=t.startTime))}),g=f(T,5e3)}),function(){try{l.observe({type:\"layout-shift\",buffered:!0}),g=f(T,5e3)}catch(t){}}(),m(y,c,function t(e){p||(p=!0,a(\"recordMetric\",\"documentCumulativeLayoutShiftToFirstInput\",s),y[o](c,t))}),m(y,\"visibilitychange\",function(){\"hidden\"===y.visibilityState&&T()}),t.once(\"$unload\",T))});csa.plugin(function(e){var t,n=e.global,r=n.PerformanceObserver,c=e(\"Metrics\",{producerId:\"csa\"}),o=0,i=0,a=-1,l=n.Math,f=l.max,u=l.ceil;if(r){t=new r(function(e){e.getEntries().forEach(function(e){var t=e.duration;o+=t,i+=t,a=f(t,a)})});try{t.observe({type:\"longtask\",buffered:!0})}catch(e){}t=new r(function(e){0<e.getEntries().length&&(i=0,a=-1)});try{t.observe({type:\"largest-contentful-paint\",buffered:!0})}catch(e){}e.on(\"$unload\",g),e.on(\"$beforePageTransition\",g)}function g(){c(\"recordMetric\",\"totalBlockingTime\",u(i||0)),c(\"recordMetric\",\"totalBlockingTimeInclLCP\",u(o||0)),c(\"recordMetric\",\"maxBlockingTime\",u(a||0)),i=o=0,a=-1}});csa.plugin(function(r){var e=\"CacheDetection\",o=\"csa-ctoken-\",n=r.store,c=r.deleteStored,t=r.config,a=t[e+\".RequestID\"],s=t[e+\".Callback\"],i=r.global,u=i.document||{},d=i.Date,f=r(\"Events\"),l=r(\"Events\",{producerId:\"csa\"});function p(e){try{var n=u.cookie.match(RegExp(\"(^| )\"+e+\"=([^;]+)\"));return n&&n[2].trim()}catch(e){}}!function(){var e=function(){var e=p(\"cdn-rid\");if(e)return{r:e,s:\"cdn\"}}()||function(){if(r.store(o+a))return{r:r.UUID().toUpperCase().replace(/-/g,\"\").slice(0,20),s:\"device\"}}()||{},n=e.r,t=e.s;if(!!n){var c=p(\"session-id\");!function(e,n,t){f(\"setEntity\",{page:{pageSource:\"cache\",requestId:e,cacheRequestId:a},session:{id:t}}),l(\"log\",{schemaId:\"<ns>.CacheImpression.1\"},{ent:\"all\"})}(n,0,c),s&&s(n,c,t)}}(),n(o+a,d.now()+36e5),r.once(\"$load\",function(){var t=d.now();c(function(e,n){return 0==e.indexOf(o)&&parseInt(n)<t})})});csa.plugin(function(u){var i,t=\"Content\",e=\"MutationObserver\",n=\"addedNodes\",a=\"querySelectorAll\",s=\"matches\",r=\"getAttributeNames\",o=\"getAttribute\",f=\"dataset\",c=\"widget\",l=\"producerId\",d={ent:{element:1,page:[\"pageType\",\"subPageType\",\"requestId\"]}},h=5,g=u.config[t+\".BubbleUp.SearchDepth\"]||10,m=\"csaC\",p=m+\"Id\",y={},v=u.config,b=v[t+\".Selectors\"]||[],E=v[t+\".WhitelistedAttributes\"]||{href:1,class:1},I=v[t+\".EnableContentEntities\"],w=u.global,C=w.document||{},A=C.documentElement,U=w.HTMLElement,k={},L=[],N=function(t,e,n,i){var r=this,o=u(\"Events\",{producerId:t||\"csa\"});e.type=e.type||c,r.id=e.id,r.l=o,r.e=e,r.el=n,r.rt=i,r.dlo=d,r.log=function(t,e){o(\"log\",t,e||d)},e.id&&o(\"setEntity\",{element:e})},O=N.prototype;function D(t){var e=(t=t||{}).element,n=t.target;return e?function(t,e){var n;n=t instanceof U?B(t)||$(e[l],t,H,u.time()):k[t.id]||_(e[l],0,t,u.time());return n}(e,t):n?S(n):u.error(\"No element or target argument provided.\")}function S(t){var e=function(t){var e=null,n=0;for(;t&&n<g;){if(n++,T(t,p)){e=t;break}t=t.parentElement}return e}(t);return e?B(e):new N(\"csa\",{id:null},null,u.time())}function T(t,e){if(t&&t.dataset)return t.dataset[e]}function j(t,e,n){L.push({n:n,e:t,t:e}),x()}function q(){for(var t=u.time(),e=0;0<L.length;){var n=L.shift();if(y[n.n](n.e,n.t),++e%10==0&&u.time()-t>h)break}i=0,L.length&&x()}function x(){i=i||u.raf(q)}function M(t,e,n){return{n:t,e:e,t:n}}function $(t,e,n,i){var r=u.UUID(),o={id:r},c=S(e);return e[f][p]=r,n(o,e),c.id&&(o.parentId=c.id),_(t,e,o,i)}function _(t,e,n,i){I&&(n.schemaId=\"<ns>.ContentEntity.2\"),n.id=n.id||u.UUID();var r=new N(t,n,e,i);return I&&r.log({schemaId:\"<ns>.ContentRender.1\",timestamp:i}),u.emit(\"$content.register\",r),k[n.id]=r}function B(t){return k[(t[f]||{})[p]]}function H(t,e){r in e&&(function(n,i){Object.keys(n[f]).forEach(function(t){if(!t.indexOf(m)&&m.length<t.length){var e=function(t){return(t[0]||\"\").toLowerCase()+t.slice(1)}(t.slice(m.length));i[e]=n[f][t]}})}(e,t),function(e,n){(e[r]()||[]).forEach(function(t){t in E&&(n[t]=e[o](t))})}(e,t))}A&&C[a]&&w[e]&&(b.push({selector:\"*[data-csa-c-type]\",entity:H}),b.push({selector:\".celwidget\",entity:function(t,e){H(t,e),t.slotId=t.slotId||e[o](\"cel_widget_id\")||e.id,t.type=t.type||c}}),y[1]=function(t,e){t.forEach(function(t){t[n]&&t[n].constructor&&\"NodeList\"===t[n].constructor.name&&Array.prototype.forEach.call(t[n],function(t){L.unshift(M(2,t,e))})})},y[2]=function(o,c){a in o&&s in o&&b.forEach(function(t){for(var e=t.selector,n=o[s](e),i=o[a](e),r=i.length-1;0<=r;r--)L.unshift(M(3,{e:i[r],s:t},c));n&&L.unshift(M(3,{e:o,s:t},c))})},y[3]=function(t,e){var n=t.e;B(n)||$(\"csa\",n,t.s.entity,e)},y[4]=function(){u.register(t,{instance:D})},new w[e](function(t){j(t,u.time(),1)}).observe(A,{childList:!0,subtree:!0}),j(A,u.time(),2),j(null,u.time(),4),u.on(\"$content.export\",function(e){Object.keys(e).forEach(function(t){O[t]=e[t]})}))});csa.plugin(function(n){var i,t=\"ContentImpressions\",e=\"KillSwitch.\",o=\"IntersectionObserver\",r=\"getAttribute\",s=\"dataset\",c=\"intersectionRatio\",a=\"csaCId\",m=1e3,l=n.global,f=n.config,u=f[e+t],g=f[e+t+\".ContentViews\"],v=((l.performance||{}).timing||{}).navigationStart||n.time(),d={};function h(t){t&&(t.v=1,function(t){t.vt=n.time(),t.el.log({schemaId:\"<ns>.ContentView.2\",timeToViewed:t.vt-t.el.rt,pageFirstPaintToElementViewed:t.vt-v})}(t))}function I(t){t&&!t.it&&(t.i=n.time()-t.is>m,function(t){t.it=n.time(),t.el.log({schemaId:\"<ns>.ContentImpressed.2\",timeToImpressed:t.it-t.el.rt,pageFirstPaintToElementImpressed:t.it-v})}(t))}!u&&l[o]&&(i=new l[o](function(t){t.forEach(function(t){var e=function(t){if(t&&t[r])return d[t[s][a]]}(t.target);if(e){var i=t.intersectionRect;t.isIntersecting&&0<i.width&&0<i.height&&(g||e.v||h(e),.5<=t[c]&&!e.is&&(e.is=n.time(),e.timer=n.timeout(function(){I(e)},m))),t[c]<.5&&!e.it&&e.timer&&(l.clearTimeout(e.timer),e.is=0,e.timer=0)}})},{threshold:[0,.5]}),n.on(\"$content.register\",function(t){var e=t.el;e&&(d[t.id]={el:t,v:0,i:0,is:0,vt:0,it:0},i.observe(e))}))});csa.plugin(function(e){e.config[\"KillSwitch.ContentLatency\"]||e.emit(\"$content.export\",{mark:function(t,n){var o=this;o.t||(o.t=e(\"Timers\",{logger:o.l,schemaId:\"<ns>.ContentLatency.1\",logOptions:o.dlo})),o.t(\"mark\",t,n)}})});csa.plugin(function(d){var t,i=\"normal\",s=\"reload\",n=\"history\",o=\"new-tab\",e=\"ajax\",a=1,r=2,c=\"lastActive\",u=\"lastInteraction\",l=\"used\",f=\"csa-tabbed-browsing\",p=\"visibilityState\",g={\"back-memory-cache\":1,\"tab-switch\":1,\"history-navigation-page-cache\":1},v=\"<ns>.TabbedBrowsing.2\",b=\"visible\",m=d.global,y=d(\"Events\",{producerId:\"csa\"}),I=m.location||{},h=m.document,T=m.JSON,w=((m.performance||{}).navigation||{}).type,z=d.store,P=d.on,S=d.storageSupport(),k=!1,x={},A={},C={},O={},$=!1,j=!1,q=!1;function B(i){try{return T.parse(z(f,void 0,{session:i})||\"{}\")||{}}catch(i){d.error(\\'Could not parse storage value for key \"\\'+f+\\'\": \\'+i)}return{}}function E(i,t){z(f,T.stringify(t||{}),{session:i})}function J(i){var t=A.tid||i.id,n=x[c]||{};n.tid===t&&(n.pid=i.id),O={pid:i.id,tid:t,lastInteraction:A[u]||{},initialized:!0},C={lastActive:n,lastInteraction:x[u]||{},time:d.time()}}function N(i){var t=i===o,n=h.referrer,e=!(n&&n.length)||!~n.indexOf(I.origin||\"\"),a=t&&e,r={type:i,toTabId:O.tid,toPageId:O.pid,transitTime:d.time()-x.time||null};a||function(i,t,n){var e=i===s,a=t?x[c]||{}:A,r=x[u]||{},d=A[u]||{},o=t?r:d;n.fromTabId=a.tid,n.fromPageId=a.pid,e||!o.id||o[l]||(n.interactionId=o.id||null,r.id===o.id&&(r[l]=!0),d.id===o.id&&(d[l]=!0))}(i,t,r),y(\"log\",{navigation:r,schemaId:v},{ent:{page:[\"pageType\",\"subPageType\",\"requestId\"]}})}function D(i){q=function(i){return i&&i in g}(i.transitionType),function(){x=B(!1),A=B(!0);var i=x[u],t=A[u],n=!1,e=!1;i&&t&&i.id===t.id&&i[l]!==t[l]&&(n=!i[l],e=!t[l],t[l]=i[l]=!0,n&&E(!1,x),e&&E(!0,A))}(),J(i),$=!0,function(i){var t,n;t=G(),n=H(),(t||n)&&J(i)}(i)}function F(){k&&!q?N(e):(k=!0,N(w===r||q?n:w===a?A.initialized?s:o:A.initialized?i:o))}function G(){return!(!$||!t)&&(A[u]={id:t.messageId,used:!(x[u]={id:t.messageId,used:!1})},!(t=null))}function H(){var i=!1;if(j=h[p]===b,$){var t=x[c]||{};i=function(i,t,n){var e=!1,a=i[c];return j?a&&a.tid===O.tid&&a[b]&&a.pid===n||(i[c]={visible:!0,pid:n,tid:t},e=!0):a&&a.tid===O.tid&&a[b]&&(e=!(a[b]=!1)),e}(x,A.tid||t.tid||O.tid,A.pid||t.pid||O.pid)}return i}S.local&&S.session&&T&&h&&p in h&&(P(\"$pageChange\",function(i){D(i),F(),E(!1,C),E(!0,O),A=O,x=C},{buffered:1}),P(\"$content.interaction\",function(i){t=i,G()&&(E(!1,x),E(!0,A))}),P(h,\"visibilitychange\",function(){H()&&E(!1,x)},{capture:!1,passive:!0}))});csa.plugin(function(c){var e=c(\"Metrics\",{producerId:\"csa\"});c.on(c.global,\"pageshow\",function(c){c&&c.persisted&&e(\"recordMetric\",\"bfCache\",1)})});\\nif (window.ue && window.ue.uels) {\\n    ue.uels(\"https://c.amazon-adsystem.com/bao-csm/forensics/a9-tq-forensics.min.js\");\\n}\\n\\n\\n}\\n/* \\xe2\\x97\\xac */\\n</script>\\n\\n</div>\\n\\n<noscript>\\n    <img height=\"1\" width=\"1\" style=\\'display:none;visibility:hidden;\\' src=\\'//fls-na.amazon.com/1/batch/1/OP/ATVPDKIKX0DER:146-9812617-0456549:26GDSBV17WG4EBM6H4BY$uedata=s:%2Frd%2Fuedata%3Fnoscript%26id%3D26GDSBV17WG4EBM6H4BY:0\\' alt=\"\"/>\\n</noscript>\\n\\n<script>window.ue && ue.count && ue.count(\\'CSMLibrarySize\\', 51636)</script>\\n</div></body></html>\\n<!--       _\\n       .__(.)< (MEOW)\\n        \\\\___)   \\n ~~~~~~~~~~~~~~~~~~-->\\n<!-- sp:eh:9XIv9UbxY/Ifw4FVJ2II3ueak/8MRVfKdn+d/vmO++MeGA+t4DEGR2dLp7EyFPm5ZiTcG1Nd4jFndWj5Q5gRgfZVuy2At3P2jaDxWivfqhJuX09EyplETg== -->\\n'"
      ]
     },
     "metadata": {},
     "execution_count": 8
    }
   ],
   "source": [
    "data[1].content"
   ]
  },
  {
   "cell_type": "code",
   "execution_count": 14,
   "metadata": {},
   "outputs": [],
   "source": [
    "url = 'https://www.amazon.com//gp/slredirect/picassoRedirect.html/ref=pa_sp_atf_aps_sr_pg1_1?ie=UTF8&adId=A09580817FKMZ2UQ9G6F&url=%2FComfy-Pants-Bundle-Extenders-Khakis%2Fdp%2FB01E0EL8P2%2Fref%3Dsr_1_1_sspa%3Fdchild%3D1%26keywords%3Dwaist%2Bextender%26qid%3D1619234175%26sr%3D8-1-spons%26psc%3D1&qualifier=1619234175&id=4770602870022975&widgetName=sp_atf'"
   ]
  },
  {
   "cell_type": "code",
   "execution_count": 15,
   "metadata": {},
   "outputs": [],
   "source": [
    "def scrape(url):  \n",
    "\n",
    "    headers = {\n",
    "        'dnt': '1',\n",
    "        'upgrade-insecure-requests': '1',\n",
    "        'user-agent': 'Mozilla/5.0 (Macintosh; Intel Mac OS X 10_15_4) AppleWebKit/537.36 (KHTML, like Gecko) Chrome/83.0.4103.61 Safari/537.36',\n",
    "        'accept': 'text/html,application/xhtml+xml,application/xml;q=0.9,image/webp,image/apng,*/*;q=0.8,application/signed-exchange;v=b3;q=0.9',\n",
    "        'sec-fetch-site': 'same-origin',\n",
    "        'sec-fetch-mode': 'navigate',\n",
    "        'sec-fetch-user': '?1',\n",
    "        'sec-fetch-dest': 'document',\n",
    "        'referer': 'https://www.amazon.com/',\n",
    "        'accept-language': 'en-GB,en-US;q=0.9,en;q=0.8',\n",
    "    }\n",
    "\n",
    "    # Download the page using requests\n",
    "    print(\"Downloading %s\"%url)\n",
    "    r = requests.get(url, headers=headers)\n",
    "    # Simple check to check if page was blocked (Usually 503)\n",
    "    if r.status_code > 500:\n",
    "        if \"To discuss automated access to Amazon data please contact\" in r.text:\n",
    "            print(\"Page %s was blocked by Amazon. Please try using better proxies\\n\"%url)\n",
    "        else:\n",
    "            print(\"Page %s must have been blocked by Amazon as the status code was %d\"%(url,r.status_code))\n",
    "        return None\n",
    "    # Pass the HTML of the page and create \n",
    "    return r"
   ]
  },
  {
   "cell_type": "code",
   "execution_count": 16,
   "metadata": {},
   "outputs": [
    {
     "output_type": "stream",
     "name": "stdout",
     "text": [
      "Downloading https://www.amazon.com//gp/slredirect/picassoRedirect.html/ref=pa_sp_atf_aps_sr_pg1_1?ie=UTF8&adId=A09580817FKMZ2UQ9G6F&url=%2FComfy-Pants-Bundle-Extenders-Khakis%2Fdp%2FB01E0EL8P2%2Fref%3Dsr_1_1_sspa%3Fdchild%3D1%26keywords%3Dwaist%2Bextender%26qid%3D1619234175%26sr%3D8-1-spons%26psc%3D1&qualifier=1619234175&id=4770602870022975&widgetName=sp_atf\n"
     ]
    }
   ],
   "source": [
    "data = scrape(url)"
   ]
  },
  {
   "cell_type": "code",
   "execution_count": 34,
   "metadata": {},
   "outputs": [],
   "source": [
    "e = Extractor.from_yaml_file('selectors.yml')\n",
    "first = e.extract(data.text)"
   ]
  },
  {
   "cell_type": "code",
   "execution_count": 35,
   "metadata": {},
   "outputs": [
    {
     "output_type": "execute_result",
     "data": {
      "text/plain": [
       "{'name': 'Comfy Pants Bundle - 13 Pant Waist Extenders (3 Types) for Dress Pants, Khakis and Jeans',\n",
       " 'price': '$15.95',\n",
       " 'short_description': 'This fits your . Make sure this fits by entering your model number. P.when(\"ReplacementPartsBulletLoader\").execute(function(module){ module.initializeDPX(); }) COMFORT: Gain a 1/2 or up to 2 inches of extra room in the waistline of your pants VARIETY: 3 different types of pants waist extenders, each with several color variations VALUE: 13 total waist extenders at a great price discount over retail Includes 5 fabric pants button extenders, 5 fabric ”hook and bar\" (aka \"hook n eye\") extenders and 3 denim jeans waist extender varieties. FREE DELIVERY for Amazon Prime Members',\n",
       " 'images': '{\"https://images-na.ssl-images-amazon.com/images/I/712bTMuwieL._AC_SY355_.jpg\":[355,355],\"https://images-na.ssl-images-amazon.com/images/I/712bTMuwieL._AC_SX522_.jpg\":[522,522],\"https://images-na.ssl-images-amazon.com/images/I/712bTMuwieL._AC_SX679_.jpg\":[679,679],\"https://images-na.ssl-images-amazon.com/images/I/712bTMuwieL._AC_SX569_.jpg\":[569,569],\"https://images-na.ssl-images-amazon.com/images/I/712bTMuwieL._AC_SX425_.jpg\":[425,425],\"https://images-na.ssl-images-amazon.com/images/I/712bTMuwieL._AC_SX466_.jpg\":[466,466],\"https://images-na.ssl-images-amazon.com/images/I/712bTMuwieL._AC_SY450_.jpg\":[450,450]}',\n",
       " 'rating': None,\n",
       " 'number_of_reviews': None,\n",
       " 'variants': None,\n",
       " 'product_description': None,\n",
       " 'sales_rank': None,\n",
       " 'link_to_all_reviews': '/Comfy-Pants-Bundle-Extenders-Khakis/product-reviews/B01E0EL8P2/ref=cm_cr_dp_d_show_all_btm?ie=UTF8&reviewerType=all_reviews',\n",
       " 'seller_url': '/gp/help/seller/at-a-glance.html/ref=dp_merchant_link?ie=UTF8&seller=ATSCEYZW6ISOL&isAmazonFulfilled=1'}"
      ]
     },
     "metadata": {},
     "execution_count": 35
    }
   ],
   "source": [
    "first"
   ]
  },
  {
   "cell_type": "code",
   "execution_count": 22,
   "metadata": {},
   "outputs": [
    {
     "output_type": "execute_result",
     "data": {
      "text/plain": [
       "dict_keys(['name', 'price', 'short_description', 'images', 'rating', 'number_of_reviews', 'variants', 'product_description', 'sales_rank', 'link_to_all_reviews'])"
      ]
     },
     "metadata": {},
     "execution_count": 22
    }
   ],
   "source": [
    "first.keys()"
   ]
  },
  {
   "cell_type": "code",
   "execution_count": 25,
   "metadata": {},
   "outputs": [
    {
     "output_type": "execute_result",
     "data": {
      "text/plain": [
       "'{\"https://images-na.ssl-images-amazon.com/images/I/712bTMuwieL._AC_SY355_.jpg\":[355,355],\"https://images-na.ssl-images-amazon.com/images/I/712bTMuwieL._AC_SX522_.jpg\":[522,522],\"https://images-na.ssl-images-amazon.com/images/I/712bTMuwieL._AC_SX679_.jpg\":[679,679],\"https://images-na.ssl-images-amazon.com/images/I/712bTMuwieL._AC_SX569_.jpg\":[569,569],\"https://images-na.ssl-images-amazon.com/images/I/712bTMuwieL._AC_SX425_.jpg\":[425,425],\"https://images-na.ssl-images-amazon.com/images/I/712bTMuwieL._AC_SX466_.jpg\":[466,466],\"https://images-na.ssl-images-amazon.com/images/I/712bTMuwieL._AC_SY450_.jpg\":[450,450]}'"
      ]
     },
     "metadata": {},
     "execution_count": 25
    }
   ],
   "source": [
    "first['images']"
   ]
  },
  {
   "cell_type": "code",
   "execution_count": 33,
   "metadata": {},
   "outputs": [
    {
     "output_type": "execute_result",
     "data": {
      "text/plain": [
       "{'seller_url': '/gp/help/seller/at-a-glance.html/ref=dp_merchant_link?ie=UTF8&seller=ATSCEYZW6ISOL&isAmazonFulfilled=1'}"
      ]
     },
     "metadata": {},
     "execution_count": 33
    }
   ],
   "source": [
    "e = Extractor.from_yaml_file('revised_search_results.yml')\n",
    "seller_url = e.extract(data.text)\n",
    "seller_url"
   ]
  },
  {
   "cell_type": "code",
   "execution_count": 36,
   "metadata": {},
   "outputs": [],
   "source": [
    "url = 'https://www.amazon.com/sp?_encoding=UTF8&asin=&isAmazonFulfilled=1&isCBA=&marketplaceID=ATVPDKIKX0DER&orderID=&protocol=current&seller=ATSCEYZW6ISOL&sshmPath='"
   ]
  },
  {
   "cell_type": "code",
   "execution_count": 37,
   "metadata": {},
   "outputs": [
    {
     "output_type": "stream",
     "name": "stdout",
     "text": [
      "Downloading https://www.amazon.com/sp?_encoding=UTF8&asin=&isAmazonFulfilled=1&isCBA=&marketplaceID=ATVPDKIKX0DER&orderID=&protocol=current&seller=ATSCEYZW6ISOL&sshmPath=\n"
     ]
    }
   ],
   "source": [
    "seller_info = scrape(url)\n"
   ]
  },
  {
   "cell_type": "code",
   "execution_count": 43,
   "metadata": {},
   "outputs": [],
   "source": [
    "e = Extractor.from_yaml_file('seller_info.yml')\n",
    "business_name = e.extract(seller_info.text)"
   ]
  },
  {
   "cell_type": "code",
   "execution_count": 44,
   "metadata": {},
   "outputs": [
    {
     "output_type": "execute_result",
     "data": {
      "text/plain": [
       "{'Business Name': 'Business Name: Net Focus Media, LLC',\n",
       " 'Business Address': '2062 Carolina Place Drive Fort Mill SC 29708 US'}"
      ]
     },
     "metadata": {},
     "execution_count": 44
    }
   ],
   "source": [
    "business_name"
   ]
  },
  {
   "cell_type": "code",
   "execution_count": 49,
   "metadata": {},
   "outputs": [],
   "source": [
    "import jsonlines\n",
    "\n",
    "lines = []\n",
    "\n",
    "with jsonlines.open('waist_extender_output.jsonl') as myfile:\n",
    "    for line in myfile.iter():\n",
    "        lines.append(line)"
   ]
  },
  {
   "cell_type": "code",
   "execution_count": 50,
   "metadata": {},
   "outputs": [
    {
     "output_type": "execute_result",
     "data": {
      "text/plain": [
       "dict_keys(['name', 'price', 'short_description', 'images', 'rating', 'number_of_reviews', 'variants', 'product_description', 'sales_rank', 'link_to_all_reviews', 'seller_url'])"
      ]
     },
     "metadata": {},
     "execution_count": 50
    }
   ],
   "source": [
    "lines[0].keys()"
   ]
  },
  {
   "cell_type": "code",
   "execution_count": 54,
   "metadata": {},
   "outputs": [
    {
     "output_type": "execute_result",
     "data": {
      "text/plain": [
       "'https://www.amazon.com//gp/help/seller/at-a-glance.html/ref=dp_merchant_link?ie=UTF8&seller=ATSCEYZW6ISOL&isAmazonFulfilled=1'"
      ]
     },
     "metadata": {},
     "execution_count": 54
    }
   ],
   "source": [
    "'https://www.amazon.com/' + lines[0]['seller_url']"
   ]
  },
  {
   "cell_type": "code",
   "execution_count": null,
   "metadata": {},
   "outputs": [],
   "source": []
  }
 ]
}